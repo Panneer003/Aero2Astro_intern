{
  "nbformat": 4,
  "nbformat_minor": 0,
  "metadata": {
    "colab": {
      "name": "Callbacks_Tf.ipynb",
      "provenance": [],
      "collapsed_sections": []
    },
    "kernelspec": {
      "name": "python3",
      "display_name": "Python 3"
    },
    "language_info": {
      "name": "python"
    }
  },
  "cells": [
    {
      "cell_type": "code",
      "metadata": {
        "id": "2uBRHRVSCAzD"
      },
      "source": [
        "# Import packages\n",
        "import tensorflow as tf \n",
        "from  tensorflow.keras import layers"
      ],
      "execution_count": null,
      "outputs": []
    },
    {
      "cell_type": "code",
      "metadata": {
        "colab": {
          "base_uri": "https://localhost:8080/"
        },
        "id": "rAcUxVi3CQoF",
        "outputId": "f73af358-5742-49fd-a929-4fd27c16571d"
      },
      "source": [
        "# Load dataset\n",
        "(x_train,y_train),(x_test,y_test) = tf.keras.datasets.cifar10.load_data()\n",
        "x_train = x_train/255\n",
        "x_test = x_test/255"
      ],
      "execution_count": null,
      "outputs": [
        {
          "output_type": "stream",
          "text": [
            "Downloading data from https://www.cs.toronto.edu/~kriz/cifar-10-python.tar.gz\n",
            "170500096/170498071 [==============================] - 2s 0us/step\n"
          ],
          "name": "stdout"
        }
      ]
    },
    {
      "cell_type": "code",
      "metadata": {
        "colab": {
          "base_uri": "https://localhost:8080/"
        },
        "id": "rCpa4SXnEaBx",
        "outputId": "5cece50a-10ed-4da7-df98-11afaa3f3664"
      },
      "source": [
        "x_train.shape"
      ],
      "execution_count": null,
      "outputs": [
        {
          "output_type": "execute_result",
          "data": {
            "text/plain": [
              "(50000, 32, 32, 3)"
            ]
          },
          "metadata": {
            "tags": []
          },
          "execution_count": 4
        }
      ]
    },
    {
      "cell_type": "code",
      "metadata": {
        "colab": {
          "base_uri": "https://localhost:8080/"
        },
        "id": "BGdNKID-Dsa2",
        "outputId": "a6deb188-022c-43bd-eb8b-cdd78d025356"
      },
      "source": [
        "# Model\n",
        "\n",
        "model = tf.keras.Sequential([\n",
        "      layers.Conv2D(32,kernel_size=3,input_shape = (32,32,3),activation='relu'),\n",
        "       layers.MaxPool2D(),\n",
        "       layers.Conv2D(32,kernel_size=3,activation = 'relu'),\n",
        "       layers.MaxPool2D(),\n",
        "        layers.Flatten(),\n",
        "        layers.Dense(10,activation='softmax')\n",
        "                \n",
        "])\n",
        "\n",
        "model.compile(optimizer = 'adam',loss = 'SparseCategoricalCrossentropy',metrics=['accuracy'])\n",
        "model.summary()\n"
      ],
      "execution_count": null,
      "outputs": [
        {
          "output_type": "stream",
          "text": [
            "Model: \"sequential\"\n",
            "_________________________________________________________________\n",
            "Layer (type)                 Output Shape              Param #   \n",
            "=================================================================\n",
            "conv2d (Conv2D)              (None, 30, 30, 32)        896       \n",
            "_________________________________________________________________\n",
            "max_pooling2d (MaxPooling2D) (None, 15, 15, 32)        0         \n",
            "_________________________________________________________________\n",
            "conv2d_1 (Conv2D)            (None, 13, 13, 32)        9248      \n",
            "_________________________________________________________________\n",
            "max_pooling2d_1 (MaxPooling2 (None, 6, 6, 32)          0         \n",
            "_________________________________________________________________\n",
            "flatten (Flatten)            (None, 1152)              0         \n",
            "_________________________________________________________________\n",
            "dense (Dense)                (None, 10)                11530     \n",
            "=================================================================\n",
            "Total params: 21,674\n",
            "Trainable params: 21,674\n",
            "Non-trainable params: 0\n",
            "_________________________________________________________________\n"
          ],
          "name": "stdout"
        }
      ]
    },
    {
      "cell_type": "code",
      "metadata": {
        "id": "OseFwFChFX_f"
      },
      "source": [
        "# Add call backs\n",
        "\n",
        "# Call backs fro storing weights\n",
        "save_callback = tf.keras.callbacks.ModelCheckpoint('/content/backup/',save_best_only=False)\n",
        "\n",
        "# Call backs for modifying learing rate during trining:\n",
        "\n",
        "def learing_rate_modify(epochs,lr):\n",
        "  if epochs < 2:\n",
        "    print(lr)\n",
        "    return lr\n",
        "  else:\n",
        "    \n",
        "    print(lr*0.99)\n",
        "    return lr*0.99\n",
        "\n",
        "lr_callback = tf.keras.callbacks.LearningRateScheduler(learing_rate_modify)\n",
        "\n",
        "# Custom call backs\n",
        "# There are many functions there in CustamCallbacks , We inherite and overrride method\n",
        "class CustomCallbacks(tf.keras.callbacks.Callback):\n",
        "  def on_epoch_end(self,epochs,logs={}):\n",
        "    if logs.get('accuracy') > 0.67:\n",
        "      print(\"Model achived good acuracy\")\n",
        "      model.stop_training=True\n"
      ],
      "execution_count": null,
      "outputs": []
    },
    {
      "cell_type": "code",
      "metadata": {
        "colab": {
          "base_uri": "https://localhost:8080/"
        },
        "id": "kDdsDRH4GuP5",
        "outputId": "a348c59b-1b5e-4b8e-fe2e-c94f21fd0ce6"
      },
      "source": [
        "# Model Training\n",
        "model.fit(x_train,y_train,batch_size=64,epochs=3,callbacks=[save_callback,lr_callback,CustomCallbacks()])"
      ],
      "execution_count": null,
      "outputs": [
        {
          "output_type": "stream",
          "text": [
            "Epoch 1/3\n",
            "0.000980100128799677\n",
            "782/782 [==============================] - 48s 61ms/step - loss: 0.9488 - accuracy: 0.6725\n",
            "INFO:tensorflow:Assets written to: /content/backup/assets\n",
            "Model achived good acuracy\n"
          ],
          "name": "stdout"
        },
        {
          "output_type": "execute_result",
          "data": {
            "text/plain": [
              "<tensorflow.python.keras.callbacks.History at 0x7f59fd37fad0>"
            ]
          },
          "metadata": {
            "tags": []
          },
          "execution_count": 23
        }
      ]
    },
    {
      "cell_type": "code",
      "metadata": {
        "id": "NmxBTCJM26Y_"
      },
      "source": [
        ""
      ],
      "execution_count": null,
      "outputs": []
    }
  ]
}